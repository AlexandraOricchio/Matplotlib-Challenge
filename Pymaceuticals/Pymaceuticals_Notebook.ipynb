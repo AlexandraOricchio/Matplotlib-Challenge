{
 "cells": [
  {
   "cell_type": "code",
   "execution_count": 1,
   "metadata": {},
   "outputs": [
    {
     "name": "stdout",
     "output_type": "stream",
     "text": [
      "  Mouse ID  Timepoint  Tumor Volume (mm3)  Metastatic Sites       Drug\n",
      "0     b128          0           45.000000                 0  Capomulin\n",
      "1     b128          5           45.651331                 0  Capomulin\n",
      "2     b128         10           43.270852                 0  Capomulin\n",
      "3     b128         15           43.784893                 0  Capomulin\n",
      "4     b128         20           42.731552                 0  Capomulin\n"
     ]
    }
   ],
   "source": [
    "# Dependencies and Setup\n",
    "%matplotlib inline\n",
    "import matplotlib.pyplot as plt\n",
    "import pandas as pd\n",
    "import numpy as np\n",
    "import os\n",
    "from scipy.stats import sem\n",
    "\n",
    "# Hide warning messages in notebook\n",
    "import warnings\n",
    "warnings.filterwarnings('ignore')\n",
    "\n",
    "# File to Load (Remember to Change These)data.cs\n",
    "mouse_path =os.path.join(\"..\",\"..\",\"Resources\",\"data\",\"mouse_drug_data.csv\")\n",
    "clinical_path =os.path.join(\"..\",\"..\",\"Resources\",\"data\",\"clinicaltrial_data.csv\")\n",
    "\n",
    "# Read the Mouse and Drug Data and the Clinical Trial Data\n",
    "mouse_df=pd.read_csv(mouse_path)\n",
    "clinical_df=pd.read_csv(clinical_path)\n",
    "mouse_df=pd.DataFrame(mouse_df)\n",
    "clinical_df=pd.DataFrame(clinical_df)\n",
    "# print(mouse_df.head())\n",
    "# print(clinical_df.head())\n",
    "# print(mouse_df.shape)\n",
    "# print(clinical_df.shape)\n",
    "\n",
    "# Combine the data into a single dataset\n",
    "merged_df=pd.merge(clinical_df,mouse_df,on=\"Mouse ID\",how=\"outer\")\n",
    "\n",
    "# Display the data table for preview\n",
    "print(merged_df.head())\n",
    "# print(merged_df.shape)"
   ]
  },
  {
   "cell_type": "markdown",
   "metadata": {},
   "source": [
    "## Tumor Response to Treatment "
   ]
  },
  {
   "cell_type": "code",
   "execution_count": 2,
   "metadata": {},
   "outputs": [
    {
     "name": "stdout",
     "output_type": "stream",
     "text": [
      "        Drug  Timepoint  Mean Tumor Volume (mm3)\n",
      "0  Capomulin          0                45.000000\n",
      "1  Capomulin          5                44.266086\n",
      "2  Capomulin         10                43.084291\n",
      "3  Capomulin         15                42.064317\n",
      "4  Capomulin         20                40.716325\n",
      "(100, 3)\n"
     ]
    }
   ],
   "source": [
    "# Store the Mean Tumor Volume Data Grouped by Drug and Timepoint \n",
    "tumor_group=merged_df.groupby(['Drug','Timepoint'])\n",
    "\n",
    "# Convert to DataFrame\n",
    "tumor_df=pd.DataFrame(tumor_group['Tumor Volume (mm3)'].mean())\n",
    "tumor_df=tumor_df.reset_index()\n",
    "tumor_df=tumor_df.rename(columns={'Tumor Volume (mm3)':'Mean Tumor Volume (mm3)'})\n",
    "\n",
    "# Preview DataFrame\n",
    "print(tumor_df.head())\n",
    "print(tumor_df.shape)"
   ]
  },
  {
   "cell_type": "code",
   "execution_count": 3,
   "metadata": {},
   "outputs": [
    {
     "name": "stdout",
     "output_type": "stream",
     "text": [
      "        Drug  Timepoint  Std Err Tumor Volume (mm3)\n",
      "0  Capomulin          0                    0.000000\n",
      "1  Capomulin          5                    0.448593\n",
      "2  Capomulin         10                    0.702684\n",
      "3  Capomulin         15                    0.838617\n",
      "4  Capomulin         20                    0.909731\n",
      "(100, 3)\n"
     ]
    }
   ],
   "source": [
    "# Store the Standard Error of Tumor Volumes Grouped by Drug and Timepoint\n",
    "sem_group=merged_df.groupby(['Drug','Timepoint'])\n",
    "\n",
    "# Convert to DataFrame\n",
    "sem_df=pd.DataFrame(sem_group['Tumor Volume (mm3)'].sem())\n",
    "sem_df=sem_df.reset_index()\n",
    "sem_df=sem_df.rename(columns={'Tumor Volume (mm3)':\"Std Err Tumor Volume (mm3)\"})\n",
    "\n",
    "# Preview DataFrame\n",
    "print(sem_df.head())\n",
    "print(sem_df.shape)"
   ]
  },
  {
   "cell_type": "code",
   "execution_count": null,
   "metadata": {},
   "outputs": [],
   "source": [
    "# # Minor Data Munging to Re-Format the Data Frames\n",
    "# tumor_reformat=tumor_df.pivot(index='Timepoint',columns='Drug')\n",
    "# sem_reformat=sem_df.pivot(index='Timepoint',columns='Drug')\n",
    "\n",
    "# # Preview that Reformatting worked\n",
    "# print(tumor_reformat)\n",
    "# print(sem_reformat)"
   ]
  },
  {
   "cell_type": "code",
   "execution_count": 4,
   "metadata": {},
   "outputs": [
    {
     "name": "stdout",
     "output_type": "stream",
     "text": [
      "        Drug  Timepoint  Mean Tumor Volume (mm3)  Std Err Tumor Volume (mm3)\n",
      "0  Capomulin          0                45.000000                    0.000000\n",
      "1  Capomulin          5                44.266086                    0.448593\n",
      "2  Capomulin         10                43.084291                    0.702684\n",
      "3  Capomulin         15                42.064317                    0.838617\n",
      "4  Capomulin         20                40.716325                    0.909731\n",
      "(100, 4)\n"
     ]
    }
   ],
   "source": [
    "tumor_merge=pd.merge(tumor_df,sem_df,on=['Drug','Timepoint'],how='outer')\n",
    "print(tumor_merge.head())\n",
    "print(tumor_merge.shape)"
   ]
  },
  {
   "cell_type": "code",
   "execution_count": 12,
   "metadata": {},
   "outputs": [
    {
     "name": "stdout",
     "output_type": "stream",
     "text": [
      "Propriva     10\n",
      "Capomulin    10\n",
      "Ketapril     10\n",
      "Ceftamin     10\n",
      "Placebo      10\n",
      "Stelasyn     10\n",
      "Infubinol    10\n",
      "Zoniferol    10\n",
      "Ramicane     10\n",
      "Naftisol     10\n",
      "Name: Drug, dtype: int64\n"
     ]
    }
   ],
   "source": [
    "print(tumor_merge['Drug'].value_counts())"
   ]
  },
  {
   "cell_type": "code",
   "execution_count": 16,
   "metadata": {},
   "outputs": [
    {
     "name": "stdout",
     "output_type": "stream",
     "text": [
      "[ 0  5 10 15 20 25 30 35 40 45]\n"
     ]
    },
    {
     "data": {
      "image/png": "[encoded data removed]",
      "text/plain": [
       "<Figure size 432x288 with 1 Axes>"
      ]
     },
     "metadata": {
      "needs_background": "light"
     },
     "output_type": "display_data"
    }
   ],
   "source": [
    "# Generate the Plot (with Error Bars)\n",
    "x_axis=np.arange(0,46,5)\n",
    "print(x_axis)\n",
    "\n",
    "capo_mean=np.array(tumor_merge.loc[tumor_merge['Drug']==\"Capomulin\",'Mean Tumor Volume (mm3)'])\n",
    "capo_sem=np.array(tumor_merge.loc[tumor_merge['Drug']==\"Capomulin\",'Std Err Tumor Volume (mm3)'])\n",
    "\n",
    "infu_mean=np.array(tumor_merge.loc[tumor_merge['Drug']==\"Infubinol\",'Mean Tumor Volume (mm3)'])\n",
    "infu_sem=np.array(tumor_merge.loc[tumor_merge['Drug']==\"Infubinol\",'Std Err Tumor Volume (mm3)'])\n",
    "\n",
    "keta_mean=np.array(tumor_merge.loc[tumor_merge['Drug']==\"Ketapril\",'Mean Tumor Volume (mm3)'])\n",
    "keta_sem=np.array(tumor_merge.loc[tumor_merge['Drug']==\"Ketapril\",'Std Err Tumor Volume (mm3)'])\n",
    "\n",
    "plcb_mean=np.array(tumor_merge.loc[tumor_merge['Drug']==\"Placebo\",'Mean Tumor Volume (mm3)'])\n",
    "plcb_sem=np.array(tumor_merge.loc[tumor_merge['Drug']==\"Placebo\",'Std Err Tumor Volume (mm3)'])\n",
    "\n",
    "fig, tumor=plt.subplots()\n",
    "fig.suptitle(\"Average Tumor Volume Over Time Per Treatment\")\n",
    "tumor.set_xlim(-1,50)\n",
    "tumor.set_xlabel(\"Time by Number of Days\")\n",
    "tumor.set_ylabel(\"Mean Tumor Volume (mm3)\")\n",
    "tumor.errorbar(x_axis,capo_mean,yerr=capo_sem, fmt='o', color='r', label='Capomulin')\n",
    "tumor.errorbar(x_axis,infu_mean,yerr=infu_sem, fmt='o', color='b', label='Infubinol')\n",
    "tumor.errorbar(x_axis,keta_mean,yerr=keta_sem, fmt='o', color='g', label='Ketapril')\n",
    "tumor.errorbar(x_axis,plcb_mean,yerr=plcb_sem, fmt='o', color='y', label='Placebo')\n",
    "plt.legend(loc=\"best\", fontsize=\"small\", fancybox=True)\n",
    "plt.show()\n",
    "\n",
    "# Save the Figure\n"
   ]
  },
  {
   "cell_type": "code",
   "execution_count": null,
   "metadata": {},
   "outputs": [],
   "source": []
  }
 ],
 "metadata": {
  "kernelspec": {
   "display_name": "Python 3",
   "language": "python",
   "name": "python3"
  },
  "language_info": {
   "codemirror_mode": {
    "name": "ipython",
    "version": 3
   },
   "file_extension": ".py",
   "mimetype": "text/x-python",
   "name": "python",
   "nbconvert_exporter": "python",
   "pygments_lexer": "ipython3",
   "version": "3.7.3"
  }
 },
 "nbformat": 4,
 "nbformat_minor": 2
}
