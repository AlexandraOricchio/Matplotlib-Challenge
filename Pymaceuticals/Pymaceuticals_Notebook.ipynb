{
 "cells": [
  {
   "cell_type": "code",
   "execution_count": 1,
   "metadata": {},
   "outputs": [
    {
     "name": "stdout",
     "output_type": "stream",
     "text": [
      "  Mouse ID  Timepoint  Tumor Volume (mm3)  Metastatic Sites       Drug\n",
      "0     b128          0           45.000000                 0  Capomulin\n",
      "1     b128          5           45.651331                 0  Capomulin\n",
      "2     b128         10           43.270852                 0  Capomulin\n",
      "3     b128         15           43.784893                 0  Capomulin\n",
      "4     b128         20           42.731552                 0  Capomulin\n"
     ]
    }
   ],
   "source": [
    "# Dependencies and Setup\n",
    "%matplotlib inline\n",
    "import matplotlib.pyplot as plt\n",
    "import pandas as pd\n",
    "import numpy as np\n",
    "import os\n",
    "from scipy.stats import sem\n",
    "\n",
    "# Hide warning messages in notebook\n",
    "import warnings\n",
    "warnings.filterwarnings('ignore')\n",
    "\n",
    "# File to Load (Remember to Change These)data.cs\n",
    "mouse_path =os.path.join(\"..\",\"..\",\"Resources\",\"data\",\"mouse_drug_data.csv\")\n",
    "clinical_path =os.path.join(\"..\",\"..\",\"Resources\",\"data\",\"clinicaltrial_data.csv\")\n",
    "\n",
    "# Read the Mouse and Drug Data and the Clinical Trial Data\n",
    "mouse_df=pd.read_csv(mouse_path)\n",
    "clinical_df=pd.read_csv(clinical_path)\n",
    "mouse_df=pd.DataFrame(mouse_df)\n",
    "clinical_df=pd.DataFrame(clinical_df)\n",
    "# print(mouse_df.head())\n",
    "# print(clinical_df.head())\n",
    "# print(mouse_df.shape)\n",
    "# print(clinical_df.shape)\n",
    "\n",
    "# Combine the data into a single dataset\n",
    "merged_df=pd.merge(clinical_df,mouse_df,on=\"Mouse ID\",how=\"outer\")\n",
    "\n",
    "# Display the data table for preview\n",
    "print(merged_df.head())\n",
    "# print(merged_df.shape)"
   ]
  },
  {
   "cell_type": "markdown",
   "metadata": {},
   "source": [
    "## Tumor Response to Treatment "
   ]
  },
  {
   "cell_type": "code",
   "execution_count": 2,
   "metadata": {},
   "outputs": [
    {
     "name": "stdout",
     "output_type": "stream",
     "text": [
      "        Drug  Timepoint  Mean Tumor Volume (mm3)\n",
      "0  Capomulin          0                45.000000\n",
      "1  Capomulin          5                44.266086\n",
      "2  Capomulin         10                43.084291\n",
      "3  Capomulin         15                42.064317\n",
      "4  Capomulin         20                40.716325\n",
      "(100, 3)\n"
     ]
    }
   ],
   "source": [
    "# Store the Mean Tumor Volume Data Grouped by Drug and Timepoint \n",
    "tumor_group=merged_df.groupby(['Drug','Timepoint'])\n",
    "\n",
    "# Convert to DataFrame\n",
    "tumor_df=pd.DataFrame(tumor_group['Tumor Volume (mm3)'].mean())\n",
    "tumor_df=tumor_df.reset_index()\n",
    "tumor_df=tumor_df.rename(columns={'Tumor Volume (mm3)':'Mean Tumor Volume (mm3)'})\n",
    "\n",
    "# Preview DataFrame\n",
    "print(tumor_df.head())\n",
    "print(tumor_df.shape)"
   ]
  },
  {
   "cell_type": "code",
   "execution_count": 3,
   "metadata": {},
   "outputs": [
    {
     "name": "stdout",
     "output_type": "stream",
     "text": [
      "        Drug  Timepoint  Std Err Tumor Volume (mm3)\n",
      "0  Capomulin          0                    0.000000\n",
      "1  Capomulin          5                    0.448593\n",
      "2  Capomulin         10                    0.702684\n",
      "3  Capomulin         15                    0.838617\n",
      "4  Capomulin         20                    0.909731\n",
      "(100, 3)\n"
     ]
    }
   ],
   "source": [
    "# Store the Standard Error of Tumor Volumes Grouped by Drug and Timepoint\n",
    "sem_group=merged_df.groupby(['Drug','Timepoint'])\n",
    "\n",
    "# Convert to DataFrame\n",
    "sem_df=pd.DataFrame(sem_group['Tumor Volume (mm3)'].sem())\n",
    "sem_df=sem_df.reset_index()\n",
    "sem_df=sem_df.rename(columns={'Tumor Volume (mm3)':\"Std Err Tumor Volume (mm3)\"})\n",
    "\n",
    "# Preview DataFrame\n",
    "print(sem_df.head())\n",
    "print(sem_df.shape)"
   ]
  },
  {
   "cell_type": "code",
   "execution_count": 4,
   "metadata": {},
   "outputs": [],
   "source": [
    "# # Minor Data Munging to Re-Format the Data Frames\n",
    "# tumor_reformat=tumor_df.pivot(index='Timepoint',columns='Drug')\n",
    "# sem_reformat=sem_df.pivot(index='Timepoint',columns='Drug')\n",
    "\n",
    "# # Preview that Reformatting worked\n",
    "# print(tumor_reformat)\n",
    "# print(sem_reformat)"
   ]
  },
  {
   "cell_type": "code",
   "execution_count": 5,
   "metadata": {},
   "outputs": [
    {
     "name": "stdout",
     "output_type": "stream",
     "text": [
      "        Drug  Timepoint  Mean Tumor Volume (mm3)  Std Err Tumor Volume (mm3)\n",
      "0  Capomulin          0                45.000000                    0.000000\n",
      "1  Capomulin          5                44.266086                    0.448593\n",
      "2  Capomulin         10                43.084291                    0.702684\n",
      "3  Capomulin         15                42.064317                    0.838617\n",
      "4  Capomulin         20                40.716325                    0.909731\n",
      "(100, 4)\n"
     ]
    }
   ],
   "source": [
    "tumor_merge=pd.merge(tumor_df,sem_df,on=['Drug','Timepoint'],how='outer')\n",
    "print(tumor_merge.head())\n",
    "print(tumor_merge.shape)"
   ]
  },
  {
   "cell_type": "code",
   "execution_count": 6,
   "metadata": {},
   "outputs": [
    {
     "name": "stdout",
     "output_type": "stream",
     "text": [
      "[ 0  5 10 15 20 25 30 35 40 45]\n"
     ]
    },
    {
     "data": {
      "image/png": "[encoded data removed]",
      "text/plain": [
       "<Figure size 432x288 with 1 Axes>"
      ]
     },
     "metadata": {
      "needs_background": "light"
     },
     "output_type": "display_data"
    }
   ],
   "source": [
    "# Generate the Plot (with Error Bars)\n",
    "x_axis=np.arange(0,46,5)\n",
    "print(x_axis)\n",
    "\n",
    "capo_mean=np.array(tumor_merge.loc[tumor_merge['Drug']==\"Capomulin\",'Mean Tumor Volume (mm3)'])\n",
    "capo_sem=np.array(tumor_merge.loc[tumor_merge['Drug']==\"Capomulin\",'Std Err Tumor Volume (mm3)'])\n",
    "\n",
    "infu_mean=np.array(tumor_merge.loc[tumor_merge['Drug']==\"Infubinol\",'Mean Tumor Volume (mm3)'])\n",
    "infu_sem=np.array(tumor_merge.loc[tumor_merge['Drug']==\"Infubinol\",'Std Err Tumor Volume (mm3)'])\n",
    "\n",
    "keta_mean=np.array(tumor_merge.loc[tumor_merge['Drug']==\"Ketapril\",'Mean Tumor Volume (mm3)'])\n",
    "keta_sem=np.array(tumor_merge.loc[tumor_merge['Drug']==\"Ketapril\",'Std Err Tumor Volume (mm3)'])\n",
    "\n",
    "plcb_mean=np.array(tumor_merge.loc[tumor_merge['Drug']==\"Placebo\",'Mean Tumor Volume (mm3)'])\n",
    "plcb_sem=np.array(tumor_merge.loc[tumor_merge['Drug']==\"Placebo\",'Std Err Tumor Volume (mm3)'])\n",
    "\n",
    "fig, tumor=plt.subplots()\n",
    "fig.suptitle(\"Average Tumor Volume Over Time Per Treatment\")\n",
    "tumor.set_xlim(-1,50)\n",
    "tumor.set_xlabel(\"Time by Number of Days\")\n",
    "tumor.set_ylabel(\"Mean Tumor Volume (mm3)\")\n",
    "tumor.errorbar(x_axis,capo_mean,yerr=capo_sem, fmt='o', color='r', label='Capomulin')\n",
    "tumor.errorbar(x_axis,infu_mean,yerr=infu_sem, fmt='o', color='b', label='Infubinol')\n",
    "tumor.errorbar(x_axis,keta_mean,yerr=keta_sem, fmt='o', color='g', label='Ketapril')\n",
    "tumor.errorbar(x_axis,plcb_mean,yerr=plcb_sem, fmt='o', color='y', label='Placebo')\n",
    "plt.legend(loc=\"best\", fontsize=\"small\", fancybox=True)\n",
    "plt.show()\n",
    "\n",
    "# Save the Figure\n"
   ]
  },
  {
   "cell_type": "markdown",
   "metadata": {},
   "source": [
    "## Metastatic Response to Treatment"
   ]
  },
  {
   "cell_type": "code",
   "execution_count": 7,
   "metadata": {},
   "outputs": [
    {
     "name": "stdout",
     "output_type": "stream",
     "text": [
      "        Drug  Timepoint  Mean Met Sites\n",
      "0  Capomulin          0        0.000000\n",
      "1  Capomulin          5        0.160000\n",
      "2  Capomulin         10        0.320000\n",
      "3  Capomulin         15        0.375000\n",
      "4  Capomulin         20        0.652174\n",
      "(100, 3)\n"
     ]
    }
   ],
   "source": [
    " # Store the Mean Met. Site Data Grouped by Drug and Timepoint \n",
    "met_group=merged_df.groupby(['Drug','Timepoint'])\n",
    "\n",
    "# Convert to DataFrame\n",
    "met_df=pd.DataFrame(met_group['Metastatic Sites'].mean())\n",
    "met_df=met_df.reset_index()\n",
    "met_df=met_df.rename(columns={'Metastatic Sites':'Mean Met Sites'})\n",
    "\n",
    "# Preview DataFrame\n",
    "print(met_df.head())\n",
    "print(met_df.shape)"
   ]
  },
  {
   "cell_type": "code",
   "execution_count": 8,
   "metadata": {},
   "outputs": [
    {
     "name": "stdout",
     "output_type": "stream",
     "text": [
      "        Drug  Timepoint  Std Err Met Sites\n",
      "0  Capomulin          0           0.000000\n",
      "1  Capomulin          5           0.074833\n",
      "2  Capomulin         10           0.125433\n",
      "3  Capomulin         15           0.132048\n",
      "4  Capomulin         20           0.161621\n",
      "(100, 3)\n"
     ]
    }
   ],
   "source": [
    " # Store the Standard Error associated with Met. Sites Grouped by Drug and Timepoint \n",
    "met_sem_group=merged_df.groupby(['Drug','Timepoint'])\n",
    "\n",
    "# Convert to DataFrame\n",
    "met_sem_df=pd.DataFrame(met_sem_group['Metastatic Sites'].sem())\n",
    "met_sem_df=met_sem_df.reset_index()\n",
    "met_sem_df=met_sem_df.rename(columns={'Metastatic Sites':'Std Err Met Sites'})\n",
    "\n",
    "# Preview DataFrame\n",
    "print(met_sem_df.head())\n",
    "print(met_sem_df.shape)"
   ]
  },
  {
   "cell_type": "code",
   "execution_count": 9,
   "metadata": {},
   "outputs": [
    {
     "name": "stdout",
     "output_type": "stream",
     "text": [
      "        Drug  Timepoint  Mean Met Sites  Std Err Met Sites\n",
      "0  Capomulin          0        0.000000           0.000000\n",
      "1  Capomulin          5        0.160000           0.074833\n",
      "2  Capomulin         10        0.320000           0.125433\n",
      "3  Capomulin         15        0.375000           0.132048\n",
      "4  Capomulin         20        0.652174           0.161621\n"
     ]
    }
   ],
   "source": [
    "met_merge=pd.merge(met_df,met_sem_df,on=['Drug','Timepoint'],how='outer')\n",
    "print(met_merge.head())"
   ]
  },
  {
   "cell_type": "code",
   "execution_count": 10,
   "metadata": {},
   "outputs": [
    {
     "data": {
      "image/png": "[encoded data removed]",
      "text/plain": [
       "<Figure size 432x288 with 1 Axes>"
      ]
     },
     "metadata": {
      "needs_background": "light"
     },
     "output_type": "display_data"
    }
   ],
   "source": [
    " # Generate the Plot (with Error Bars)\n",
    "x_axis=np.arange(0,46,5)\n",
    "\n",
    "\n",
    "fig, tumor=plt.subplots()\n",
    "fig.suptitle(\"Average Number of Metastatic Sites Over Time Per Treatment\")\n",
    "tumor.set_xlim(-1,50)\n",
    "tumor.set_xlabel(\"Time by Number of Days\")\n",
    "tumor.set_ylabel(\"Mean Number of Metastatic Sites\")\n",
    "tumor.errorbar(x_axis,np.array(met_merge.loc[met_merge['Drug']=='Capomulin', 'Mean Met Sites']),yerr=np.array(met_merge.loc[met_merge['Drug']=='Capomulin', 'Std Err Met Sites']), fmt='o', color='r', label='Capomulin')\n",
    "tumor.errorbar(x_axis,np.array(met_merge.loc[met_merge['Drug']=='Infubinol', 'Mean Met Sites']),yerr=np.array(met_merge.loc[met_merge['Drug']=='Infubinol', 'Std Err Met Sites']), fmt='o', color='b', label='Infubinol')\n",
    "tumor.errorbar(x_axis,np.array(met_merge.loc[met_merge['Drug']=='Ketapril', 'Mean Met Sites']),yerr=np.array(met_merge.loc[met_merge['Drug']=='Ketapril', 'Std Err Met Sites']), fmt='o', color='g', label='Ketapril')\n",
    "tumor.errorbar(x_axis,np.array(met_merge.loc[met_merge['Drug']=='Placebo', 'Mean Met Sites']),yerr=np.array(met_merge.loc[met_merge['Drug']=='Placebo', 'Std Err Met Sites']), fmt='o', color='y', label='Placebo')\n",
    "plt.legend(loc=\"best\", fontsize=\"small\", fancybox=True)\n",
    "plt.show()\n",
    "# Save the Figure\n",
    "\n",
    "# Show the Figure"
   ]
  },
  {
   "cell_type": "markdown",
   "metadata": {},
   "source": [
    "## Survival Rates"
   ]
  },
  {
   "cell_type": "code",
   "execution_count": 11,
   "metadata": {},
   "outputs": [
    {
     "name": "stdout",
     "output_type": "stream",
     "text": [
      "        Drug  Timepoint  # of Mice\n",
      "0  Capomulin          0         25\n",
      "1  Capomulin          5         25\n",
      "2  Capomulin         10         25\n",
      "3  Capomulin         15         24\n",
      "4  Capomulin         20         23\n"
     ]
    }
   ],
   "source": [
    "# Store the Count of Mice Grouped by Drug and Timepoint (W can pass any metric)\n",
    "mice_group=merged_df.groupby(['Drug','Timepoint'])\n",
    "\n",
    "# Convert to DataFrame\n",
    "mice_df=pd.DataFrame(mice_group['Mouse ID'].count())\n",
    "mice_df=mice_df.reset_index()\n",
    "mice_df=mice_df.rename(columns={'Mouse ID':'# of Mice'})\n",
    "\n",
    "# Preview DataFrame\n",
    "print(mice_df.head())"
   ]
  },
  {
   "cell_type": "code",
   "execution_count": 14,
   "metadata": {},
   "outputs": [
    {
     "name": "stdout",
     "output_type": "stream",
     "text": [
      "[25 25 25 24 23 22 22 22 21 21]\n",
      "[ 0  5 10 15 20 25 30 35 40 45]\n",
      "Index(['Timepoint', 'Capomulin', 'Ceftamin', 'Infubinol', 'Ketapril',\n",
      "       'Naftisol', 'Placebo', 'Propriva', 'Ramicane', 'Stelasyn', 'Zoniferol'],\n",
      "      dtype='object', name='Drug')\n"
     ]
    },
    {
     "data": {
      "text/html": [
       "<div>\n",
       "<style scoped>\n",
       "    .dataframe tbody tr th:only-of-type {\n",
       "        vertical-align: middle;\n",
       "    }\n",
       "\n",
       "    .dataframe tbody tr th {\n",
       "        vertical-align: top;\n",
       "    }\n",
       "\n",
       "    .dataframe thead th {\n",
       "        text-align: right;\n",
       "    }\n",
       "</style>\n",
       "<table border=\"1\" class=\"dataframe\">\n",
       "  <thead>\n",
       "    <tr style=\"text-align: right;\">\n",
       "      <th>Drug</th>\n",
       "      <th>Timepoint</th>\n",
       "      <th>Capomulin</th>\n",
       "      <th>Ceftamin</th>\n",
       "      <th>Infubinol</th>\n",
       "      <th>Ketapril</th>\n",
       "      <th>Naftisol</th>\n",
       "      <th>Placebo</th>\n",
       "      <th>Propriva</th>\n",
       "      <th>Ramicane</th>\n",
       "      <th>Stelasyn</th>\n",
       "      <th>Zoniferol</th>\n",
       "    </tr>\n",
       "  </thead>\n",
       "  <tbody>\n",
       "    <tr>\n",
       "      <th>0</th>\n",
       "      <td>0</td>\n",
       "      <td>25</td>\n",
       "      <td>25</td>\n",
       "      <td>25</td>\n",
       "      <td>25</td>\n",
       "      <td>25</td>\n",
       "      <td>25</td>\n",
       "      <td>26</td>\n",
       "      <td>25</td>\n",
       "      <td>26</td>\n",
       "      <td>25</td>\n",
       "    </tr>\n",
       "    <tr>\n",
       "      <th>1</th>\n",
       "      <td>5</td>\n",
       "      <td>25</td>\n",
       "      <td>21</td>\n",
       "      <td>25</td>\n",
       "      <td>23</td>\n",
       "      <td>23</td>\n",
       "      <td>24</td>\n",
       "      <td>25</td>\n",
       "      <td>25</td>\n",
       "      <td>25</td>\n",
       "      <td>24</td>\n",
       "    </tr>\n",
       "    <tr>\n",
       "      <th>2</th>\n",
       "      <td>10</td>\n",
       "      <td>25</td>\n",
       "      <td>20</td>\n",
       "      <td>21</td>\n",
       "      <td>22</td>\n",
       "      <td>21</td>\n",
       "      <td>24</td>\n",
       "      <td>23</td>\n",
       "      <td>24</td>\n",
       "      <td>23</td>\n",
       "      <td>22</td>\n",
       "    </tr>\n",
       "    <tr>\n",
       "      <th>3</th>\n",
       "      <td>15</td>\n",
       "      <td>24</td>\n",
       "      <td>19</td>\n",
       "      <td>21</td>\n",
       "      <td>19</td>\n",
       "      <td>21</td>\n",
       "      <td>20</td>\n",
       "      <td>17</td>\n",
       "      <td>24</td>\n",
       "      <td>23</td>\n",
       "      <td>21</td>\n",
       "    </tr>\n",
       "    <tr>\n",
       "      <th>4</th>\n",
       "      <td>20</td>\n",
       "      <td>23</td>\n",
       "      <td>18</td>\n",
       "      <td>20</td>\n",
       "      <td>19</td>\n",
       "      <td>20</td>\n",
       "      <td>19</td>\n",
       "      <td>17</td>\n",
       "      <td>23</td>\n",
       "      <td>21</td>\n",
       "      <td>17</td>\n",
       "    </tr>\n",
       "    <tr>\n",
       "      <th>5</th>\n",
       "      <td>25</td>\n",
       "      <td>22</td>\n",
       "      <td>18</td>\n",
       "      <td>18</td>\n",
       "      <td>19</td>\n",
       "      <td>18</td>\n",
       "      <td>17</td>\n",
       "      <td>14</td>\n",
       "      <td>23</td>\n",
       "      <td>19</td>\n",
       "      <td>16</td>\n",
       "    </tr>\n",
       "    <tr>\n",
       "      <th>6</th>\n",
       "      <td>30</td>\n",
       "      <td>22</td>\n",
       "      <td>16</td>\n",
       "      <td>17</td>\n",
       "      <td>18</td>\n",
       "      <td>15</td>\n",
       "      <td>15</td>\n",
       "      <td>13</td>\n",
       "      <td>23</td>\n",
       "      <td>18</td>\n",
       "      <td>15</td>\n",
       "    </tr>\n",
       "    <tr>\n",
       "      <th>7</th>\n",
       "      <td>35</td>\n",
       "      <td>22</td>\n",
       "      <td>14</td>\n",
       "      <td>12</td>\n",
       "      <td>17</td>\n",
       "      <td>15</td>\n",
       "      <td>14</td>\n",
       "      <td>10</td>\n",
       "      <td>21</td>\n",
       "      <td>16</td>\n",
       "      <td>14</td>\n",
       "    </tr>\n",
       "    <tr>\n",
       "      <th>8</th>\n",
       "      <td>40</td>\n",
       "      <td>21</td>\n",
       "      <td>14</td>\n",
       "      <td>10</td>\n",
       "      <td>15</td>\n",
       "      <td>15</td>\n",
       "      <td>12</td>\n",
       "      <td>9</td>\n",
       "      <td>20</td>\n",
       "      <td>12</td>\n",
       "      <td>14</td>\n",
       "    </tr>\n",
       "    <tr>\n",
       "      <th>9</th>\n",
       "      <td>45</td>\n",
       "      <td>21</td>\n",
       "      <td>13</td>\n",
       "      <td>9</td>\n",
       "      <td>11</td>\n",
       "      <td>13</td>\n",
       "      <td>11</td>\n",
       "      <td>7</td>\n",
       "      <td>20</td>\n",
       "      <td>11</td>\n",
       "      <td>14</td>\n",
       "    </tr>\n",
       "  </tbody>\n",
       "</table>\n",
       "</div>"
      ],
      "text/plain": [
       "Drug  Timepoint  Capomulin  Ceftamin  Infubinol  Ketapril  Naftisol  Placebo  \\\n",
       "0             0         25        25         25        25        25       25   \n",
       "1             5         25        21         25        23        23       24   \n",
       "2            10         25        20         21        22        21       24   \n",
       "3            15         24        19         21        19        21       20   \n",
       "4            20         23        18         20        19        20       19   \n",
       "5            25         22        18         18        19        18       17   \n",
       "6            30         22        16         17        18        15       15   \n",
       "7            35         22        14         12        17        15       14   \n",
       "8            40         21        14         10        15        15       12   \n",
       "9            45         21        13          9        11        13       11   \n",
       "\n",
       "Drug  Propriva  Ramicane  Stelasyn  Zoniferol  \n",
       "0           26        25        26         25  \n",
       "1           25        25        25         24  \n",
       "2           23        24        23         22  \n",
       "3           17        24        23         21  \n",
       "4           17        23        21         17  \n",
       "5           14        23        19         16  \n",
       "6           13        23        18         15  \n",
       "7           10        21        16         14  \n",
       "8            9        20        12         14  \n",
       "9            7        20        11         14  "
      ]
     },
     "execution_count": 14,
     "metadata": {},
     "output_type": "execute_result"
    }
   ],
   "source": [
    "mice_reformat=mice_df.pivot(values='# of Mice',index='Timepoint',columns='Drug').reset_index()\n",
    "mice_reformat=pd.DataFrame(mice_reformat)\n",
    "# print(mice_reformat)\n",
    "print(np.array(mice_reformat[\"Capomulin\"]))\n",
    "print(np.array(mice_reformat['Timepoint']))\n",
    "print(mice_reformat.columns)\n",
    "mice_reformat"
   ]
  },
  {
   "cell_type": "code",
   "execution_count": 18,
   "metadata": {},
   "outputs": [
    {
     "data": {
      "image/png": "[encoded data removed]",
      "text/plain": [
       "<Figure size 432x288 with 1 Axes>"
      ]
     },
     "metadata": {
      "needs_background": "light"
     },
     "output_type": "display_data"
    }
   ],
   "source": [
    "# Generate the Plot (Accounting for percentages)\n",
    "plt.scatter(x=(np.array(mice_reformat['Timepoint'])),y=(np.array(mice_reformat['Capomulin'])),marker='o',facecolors='red',label=\"Capomulin\")\n",
    "plt.scatter(x=(np.array(mice_reformat['Timepoint'])),y=(np.array(mice_reformat['Infubinol'])),marker='o',facecolors='blue',label=\"Infubinol\")\n",
    "plt.scatter(x=(np.array(mice_reformat['Timepoint'])),y=(np.array(mice_reformat['Ketapril'])),marker='o',facecolors='green',label=\"Ketapril\")\n",
    "plt.scatter(x=(np.array(mice_reformat['Timepoint'])),y=(np.array(mice_reformat['Placebo'])),marker='o',facecolors='yellow',label=\"Placebo\")\n",
    "plt.legend()\n",
    "plt.title(\"Survival Rate Per Treatment Over Time\")\n",
    "plt.xlabel(\"Time by Number of Days\")\n",
    "plt.ylabel(\"Percentage of Mice Alive\")\n",
    "# Save the Figure\n",
    "\n",
    "# Show the Figure\n",
    "plt.show()"
   ]
  },
  {
   "cell_type": "code",
   "execution_count": 19,
   "metadata": {},
   "outputs": [
    {
     "data": {
      "text/html": [
       "<div>\n",
       "<style scoped>\n",
       "    .dataframe tbody tr th:only-of-type {\n",
       "        vertical-align: middle;\n",
       "    }\n",
       "\n",
       "    .dataframe tbody tr th {\n",
       "        vertical-align: top;\n",
       "    }\n",
       "\n",
       "    .dataframe thead th {\n",
       "        text-align: right;\n",
       "    }\n",
       "</style>\n",
       "<table border=\"1\" class=\"dataframe\">\n",
       "  <thead>\n",
       "    <tr style=\"text-align: right;\">\n",
       "      <th>Drug</th>\n",
       "      <th>Timepoint</th>\n",
       "      <th>Capomulin</th>\n",
       "      <th>Ceftamin</th>\n",
       "      <th>Infubinol</th>\n",
       "      <th>Ketapril</th>\n",
       "      <th>Naftisol</th>\n",
       "      <th>Placebo</th>\n",
       "      <th>Propriva</th>\n",
       "      <th>Ramicane</th>\n",
       "      <th>Stelasyn</th>\n",
       "      <th>Zoniferol</th>\n",
       "    </tr>\n",
       "  </thead>\n",
       "  <tbody>\n",
       "    <tr>\n",
       "      <th>0</th>\n",
       "      <td>0</td>\n",
       "      <td>25</td>\n",
       "      <td>25</td>\n",
       "      <td>25</td>\n",
       "      <td>25</td>\n",
       "      <td>25</td>\n",
       "      <td>25</td>\n",
       "      <td>26</td>\n",
       "      <td>25</td>\n",
       "      <td>26</td>\n",
       "      <td>25</td>\n",
       "    </tr>\n",
       "    <tr>\n",
       "      <th>1</th>\n",
       "      <td>5</td>\n",
       "      <td>25</td>\n",
       "      <td>21</td>\n",
       "      <td>25</td>\n",
       "      <td>23</td>\n",
       "      <td>23</td>\n",
       "      <td>24</td>\n",
       "      <td>25</td>\n",
       "      <td>25</td>\n",
       "      <td>25</td>\n",
       "      <td>24</td>\n",
       "    </tr>\n",
       "    <tr>\n",
       "      <th>2</th>\n",
       "      <td>10</td>\n",
       "      <td>25</td>\n",
       "      <td>20</td>\n",
       "      <td>21</td>\n",
       "      <td>22</td>\n",
       "      <td>21</td>\n",
       "      <td>24</td>\n",
       "      <td>23</td>\n",
       "      <td>24</td>\n",
       "      <td>23</td>\n",
       "      <td>22</td>\n",
       "    </tr>\n",
       "    <tr>\n",
       "      <th>3</th>\n",
       "      <td>15</td>\n",
       "      <td>24</td>\n",
       "      <td>19</td>\n",
       "      <td>21</td>\n",
       "      <td>19</td>\n",
       "      <td>21</td>\n",
       "      <td>20</td>\n",
       "      <td>17</td>\n",
       "      <td>24</td>\n",
       "      <td>23</td>\n",
       "      <td>21</td>\n",
       "    </tr>\n",
       "    <tr>\n",
       "      <th>4</th>\n",
       "      <td>20</td>\n",
       "      <td>23</td>\n",
       "      <td>18</td>\n",
       "      <td>20</td>\n",
       "      <td>19</td>\n",
       "      <td>20</td>\n",
       "      <td>19</td>\n",
       "      <td>17</td>\n",
       "      <td>23</td>\n",
       "      <td>21</td>\n",
       "      <td>17</td>\n",
       "    </tr>\n",
       "    <tr>\n",
       "      <th>5</th>\n",
       "      <td>25</td>\n",
       "      <td>22</td>\n",
       "      <td>18</td>\n",
       "      <td>18</td>\n",
       "      <td>19</td>\n",
       "      <td>18</td>\n",
       "      <td>17</td>\n",
       "      <td>14</td>\n",
       "      <td>23</td>\n",
       "      <td>19</td>\n",
       "      <td>16</td>\n",
       "    </tr>\n",
       "    <tr>\n",
       "      <th>6</th>\n",
       "      <td>30</td>\n",
       "      <td>22</td>\n",
       "      <td>16</td>\n",
       "      <td>17</td>\n",
       "      <td>18</td>\n",
       "      <td>15</td>\n",
       "      <td>15</td>\n",
       "      <td>13</td>\n",
       "      <td>23</td>\n",
       "      <td>18</td>\n",
       "      <td>15</td>\n",
       "    </tr>\n",
       "    <tr>\n",
       "      <th>7</th>\n",
       "      <td>35</td>\n",
       "      <td>22</td>\n",
       "      <td>14</td>\n",
       "      <td>12</td>\n",
       "      <td>17</td>\n",
       "      <td>15</td>\n",
       "      <td>14</td>\n",
       "      <td>10</td>\n",
       "      <td>21</td>\n",
       "      <td>16</td>\n",
       "      <td>14</td>\n",
       "    </tr>\n",
       "    <tr>\n",
       "      <th>8</th>\n",
       "      <td>40</td>\n",
       "      <td>21</td>\n",
       "      <td>14</td>\n",
       "      <td>10</td>\n",
       "      <td>15</td>\n",
       "      <td>15</td>\n",
       "      <td>12</td>\n",
       "      <td>9</td>\n",
       "      <td>20</td>\n",
       "      <td>12</td>\n",
       "      <td>14</td>\n",
       "    </tr>\n",
       "    <tr>\n",
       "      <th>9</th>\n",
       "      <td>45</td>\n",
       "      <td>21</td>\n",
       "      <td>13</td>\n",
       "      <td>9</td>\n",
       "      <td>11</td>\n",
       "      <td>13</td>\n",
       "      <td>11</td>\n",
       "      <td>7</td>\n",
       "      <td>20</td>\n",
       "      <td>11</td>\n",
       "      <td>14</td>\n",
       "    </tr>\n",
       "  </tbody>\n",
       "</table>\n",
       "</div>"
      ],
      "text/plain": [
       "Drug  Timepoint  Capomulin  Ceftamin  Infubinol  Ketapril  Naftisol  Placebo  \\\n",
       "0             0         25        25         25        25        25       25   \n",
       "1             5         25        21         25        23        23       24   \n",
       "2            10         25        20         21        22        21       24   \n",
       "3            15         24        19         21        19        21       20   \n",
       "4            20         23        18         20        19        20       19   \n",
       "5            25         22        18         18        19        18       17   \n",
       "6            30         22        16         17        18        15       15   \n",
       "7            35         22        14         12        17        15       14   \n",
       "8            40         21        14         10        15        15       12   \n",
       "9            45         21        13          9        11        13       11   \n",
       "\n",
       "Drug  Propriva  Ramicane  Stelasyn  Zoniferol  \n",
       "0           26        25        26         25  \n",
       "1           25        25        25         24  \n",
       "2           23        24        23         22  \n",
       "3           17        24        23         21  \n",
       "4           17        23        21         17  \n",
       "5           14        23        19         16  \n",
       "6           13        23        18         15  \n",
       "7           10        21        16         14  \n",
       "8            9        20        12         14  \n",
       "9            7        20        11         14  "
      ]
     },
     "execution_count": 19,
     "metadata": {},
     "output_type": "execute_result"
    }
   ],
   "source": [
    "mice_reformat"
   ]
  },
  {
   "cell_type": "code",
   "execution_count": 24,
   "metadata": {},
   "outputs": [
    {
     "name": "stdout",
     "output_type": "stream",
     "text": [
      "[100.0, 100.0, 100.0, 96.0, 92.0, 88.0, 88.0, 88.0, 84.0, 84.0]\n",
      "[100.0, 100.0, 84.0, 84.0, 80.0, 72.0, 68.0, 48.0, 40.0, 36.0]\n",
      "[100.0, 92.0, 88.0, 76.0, 76.0, 76.0, 72.0, 68.0, 60.0, 44.0]\n",
      "[100.0, 96.0, 96.0, 80.0, 76.0, 68.0, 60.0, 56.00000000000001, 48.0, 44.0]\n"
     ]
    }
   ],
   "source": [
    "c_percents=[]\n",
    "i_percents=[]\n",
    "k_percents=[]\n",
    "p_percents=[]\n",
    "\n",
    "for i in mice_reformat['Capomulin']:\n",
    "    survival_rate=(i/(mice_reformat['Capomulin'][0]))*100\n",
    "    c_percents.append(survival_rate)\n",
    "    \n",
    "for i in mice_reformat['Infubinol']:\n",
    "    survival_rate=(i/(mice_reformat['Infubinol'][0]))*100\n",
    "    i_percents.append(survival_rate)\n",
    "    \n",
    "for i in mice_reformat['Ketapril']:\n",
    "    survival_rate=(i/(mice_reformat['Ketapril'][0]))*100\n",
    "    k_percents.append(survival_rate)\n",
    "    \n",
    "for i in mice_reformat['Placebo']:\n",
    "    survival_rate=(i/(mice_reformat['Placebo'][0]))*100\n",
    "    p_percents.append(survival_rate)\n",
    "    \n",
    "print(c_percents)\n",
    "print(i_percents)\n",
    "print(k_percents)\n",
    "print(p_percents)"
   ]
  },
  {
   "cell_type": "code",
   "execution_count": 41,
   "metadata": {},
   "outputs": [
    {
     "name": "stdout",
     "output_type": "stream",
     "text": [
      "[0.0, 11.11111111111111, 22.22222222222222, 33.33333333333333, 44.44444444444444, 55.55555555555556, 66.66666666666666, 77.77777777777779, 88.88888888888889, 100.0]\n",
      "[100.0, 100.0, 100.0, 96.0, 92.0, 88.0, 88.0, 88.0, 84.0, 84.0]\n",
      "[100.0, 84.0, 80.0, 76.0, 72.0, 72.0, 64.0, 56.00000000000001, 56.00000000000001, 52.0]\n",
      "[100.0, 100.0, 84.0, 84.0, 80.0, 72.0, 68.0, 48.0, 40.0, 36.0]\n",
      "[100.0, 92.0, 88.0, 76.0, 76.0, 76.0, 72.0, 68.0, 60.0, 44.0]\n",
      "[100.0, 92.0, 84.0, 84.0, 80.0, 72.0, 60.0, 60.0, 60.0, 52.0]\n",
      "[100.0, 96.0, 96.0, 80.0, 76.0, 68.0, 60.0, 56.00000000000001, 48.0, 44.0]\n",
      "[100.0, 96.15384615384616, 88.46153846153845, 65.38461538461539, 65.38461538461539, 53.84615384615385, 50.0, 38.46153846153847, 34.61538461538461, 26.923076923076923]\n",
      "[100.0, 100.0, 96.0, 96.0, 92.0, 92.0, 92.0, 84.0, 80.0, 80.0]\n",
      "[100.0, 96.15384615384616, 88.46153846153845, 88.46153846153845, 80.76923076923077, 73.07692307692307, 69.23076923076923, 61.53846153846154, 46.15384615384615, 42.30769230769231]\n",
      "[100.0, 96.0, 88.0, 84.0, 68.0, 64.0, 60.0, 56.00000000000001, 56.00000000000001, 56.00000000000001]\n"
     ]
    }
   ],
   "source": [
    "for column in mice_reformat[1:9]:\n",
    "    rates_list=[]\n",
    "    for i in mice_reformat[column]:\n",
    "        rate=(i/max(mice_reformat[column]))*100\n",
    "        rates_list.append(rate)\n",
    "    print(rates_list)"
   ]
  },
  {
   "cell_type": "code",
   "execution_count": null,
   "metadata": {},
   "outputs": [],
   "source": []
  }
 ],
 "metadata": {
  "kernelspec": {
   "display_name": "Python 3",
   "language": "python",
   "name": "python3"
  },
  "language_info": {
   "codemirror_mode": {
    "name": "ipython",
    "version": 3
   },
   "file_extension": ".py",
   "mimetype": "text/x-python",
   "name": "python",
   "nbconvert_exporter": "python",
   "pygments_lexer": "ipython3",
   "version": "3.7.3"
  }
 },
 "nbformat": 4,
 "nbformat_minor": 2
}
