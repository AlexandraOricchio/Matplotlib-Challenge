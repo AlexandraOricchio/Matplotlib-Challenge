{
 "cells": [
  {
   "cell_type": "code",
   "execution_count": 1,
   "metadata": {},
   "outputs": [
    {
     "name": "stdout",
     "output_type": "stream",
     "text": [
      "  Mouse ID  Timepoint  Tumor Volume (mm3)  Metastatic Sites       Drug\n",
      "0     b128          0           45.000000                 0  Capomulin\n",
      "1     b128          5           45.651331                 0  Capomulin\n",
      "2     b128         10           43.270852                 0  Capomulin\n",
      "3     b128         15           43.784893                 0  Capomulin\n",
      "4     b128         20           42.731552                 0  Capomulin\n"
     ]
    }
   ],
   "source": [
    "# Dependencies and Setup\n",
    "%matplotlib inline\n",
    "import matplotlib.pyplot as plt\n",
    "import pandas as pd\n",
    "import numpy as np\n",
    "import os\n",
    "from scipy.stats import sem\n",
    "\n",
    "# Hide warning messages in notebook\n",
    "import warnings\n",
    "warnings.filterwarnings('ignore')\n",
    "\n",
    "# File to Load (Remember to Change These)data.cs\n",
    "mouse_path =os.path.join(\"..\",\"..\",\"Resources\",\"data\",\"mouse_drug_data.csv\")\n",
    "clinical_path =os.path.join(\"..\",\"..\",\"Resources\",\"data\",\"clinicaltrial_data.csv\")\n",
    "\n",
    "# Read the Mouse and Drug Data and the Clinical Trial Data\n",
    "mouse_df=pd.read_csv(mouse_path)\n",
    "clinical_df=pd.read_csv(clinical_path)\n",
    "mouse_df=pd.DataFrame(mouse_df)\n",
    "clinical_df=pd.DataFrame(clinical_df)\n",
    "# print(mouse_df.head())\n",
    "# print(clinical_df.head())\n",
    "# print(mouse_df.shape)\n",
    "# print(clinical_df.shape)\n",
    "\n",
    "# Combine the data into a single dataset\n",
    "merged_df=pd.merge(clinical_df,mouse_df,on=\"Mouse ID\",how=\"outer\")\n",
    "\n",
    "# Display the data table for preview\n",
    "print(merged_df.head())\n",
    "# print(merged_df.shape)"
   ]
  },
  {
   "cell_type": "markdown",
   "metadata": {},
   "source": [
    "## Tumor Response to Treatment "
   ]
  },
  {
   "cell_type": "code",
   "execution_count": 2,
   "metadata": {},
   "outputs": [
    {
     "name": "stdout",
     "output_type": "stream",
     "text": [
      "        Drug  Timepoint  Tumor Volume (mm3)\n",
      "0  Capomulin          0           45.000000\n",
      "1  Capomulin          5           44.266086\n",
      "2  Capomulin         10           43.084291\n",
      "3  Capomulin         15           42.064317\n",
      "4  Capomulin         20           40.716325\n"
     ]
    }
   ],
   "source": [
    "# Store the Mean Tumor Volume Data Grouped by Drug and Timepoint \n",
    "tumor_group=merged_df.groupby(['Drug','Timepoint'])\n",
    "\n",
    "# Convert to DataFrame\n",
    "tumor_df=pd.DataFrame(tumor_group['Tumor Volume (mm3)'].mean())\n",
    "tumor_df=tumor_df.reset_index()\n",
    "\n",
    "# Preview DataFrame\n",
    "print(tumor_df.head())"
   ]
  },
  {
   "cell_type": "code",
   "execution_count": 8,
   "metadata": {},
   "outputs": [
    {
     "name": "stdout",
     "output_type": "stream",
     "text": [
      "          Tumor Volume (mm3)                                               \\\n",
      "Drug               Capomulin Ceftamin Infubinol Ketapril Naftisol Placebo   \n",
      "Timepoint                                                                   \n",
      "0                        NaN      NaN       NaN      NaN      NaN     NaN   \n",
      "5                        NaN      NaN       NaN      NaN      NaN     NaN   \n",
      "10                       NaN      NaN       NaN      NaN      NaN     NaN   \n",
      "15                       NaN      NaN       NaN      NaN      NaN     NaN   \n",
      "20                       NaN      NaN       NaN      NaN      NaN     NaN   \n",
      "\n",
      "                                                \n",
      "Drug      Propriva Ramicane Stelasyn Zoniferol  \n",
      "Timepoint                                       \n",
      "0              NaN      NaN      NaN       NaN  \n",
      "5              NaN      NaN      NaN       NaN  \n",
      "10             NaN      NaN      NaN       NaN  \n",
      "15             NaN      NaN      NaN       NaN  \n",
      "20             NaN      NaN      NaN       NaN  \n"
     ]
    }
   ],
   "source": [
    "# Store the Standard Error of Tumor Volumes Grouped by Drug and Timepoint\n",
    "sem_group=tumor_df.groupby(['Timepoint','Drug'],sort=False).sem().unstack(fill_value=0)\n",
    "print(sem_group.head())\n",
    "\n",
    "# tumor_sem=tumor_df['Tumor Volume (mm3)'].sem()\n",
    "# print(tumor_sem)\n",
    "\n",
    "# Convert to DataFrame\n",
    "\n",
    "# Preview DataFrame"
   ]
  },
  {
   "cell_type": "code",
   "execution_count": null,
   "metadata": {},
   "outputs": [],
   "source": []
  }
 ],
 "metadata": {
  "kernelspec": {
   "display_name": "Python 3",
   "language": "python",
   "name": "python3"
  },
  "language_info": {
   "codemirror_mode": {
    "name": "ipython",
    "version": 3
   },
   "file_extension": ".py",
   "mimetype": "text/x-python",
   "name": "python",
   "nbconvert_exporter": "python",
   "pygments_lexer": "ipython3",
   "version": "3.7.3"
  }
 },
 "nbformat": 4,
 "nbformat_minor": 2
}
